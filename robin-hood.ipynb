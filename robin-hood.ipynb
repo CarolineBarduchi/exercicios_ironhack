{
 "cells": [
  {
   "cell_type": "markdown",
   "metadata": {},
   "source": [
    "<img src=\"https://bit.ly/2VnXWr2\" width=\"100\" align=\"left\"/>"
   ]
  },
  {
   "cell_type": "markdown",
   "metadata": {},
   "source": [
    "# Robin Hood\n",
    "Robin Hood has entered a competition to win the archery contest in Sherwood. With his bow and arrows, he needs to shoot on a target and try to hit as close as possible to the center.\n",
    "\n",
    "![](images/arrows.jpg)\n",
    "\n",
    "## Context\n",
    "In this challenge, the landing position of arrows shot by archers in the competition will be represented using 2-dimensional coordinates. \n",
    "\n",
    "In the 2-dimensional space, a point can be defined by a pair of values that correspond to the horizontal coordinate (x) and the vertical coordinate (y). For example, in our case, an arrow that hits the center of the archery target will land in position (0, 0) on the coordinate axes. \n",
    "\n",
    "The space can be divided into 4 zones (quadrants): Q1, Q2, Q3, Q4. If a point is in Q1, both its x coordinate and y coordinate are positive. Any point with a null x or y coordinate is considered to not belong to any quadrant. \n",
    "\n",
    "If you want to know more about the cartesian coordinate system, you can check this [link](https://en.wikipedia.org/wiki/Cartesian_coordinate_system). \n",
    "\n",
    "## Tools\n",
    "You don't necessarily need to use all the tools. Maybe you opt to use some of them or completely different ones, they are given to help you shape the exercise. Programming exercises can be solved in many different ways.\n",
    "* Data structures: **lists, sets, tuples**\n",
    "* Conditional statements: **if-elif-else**\n",
    "* Loop: **while/for**\n",
    "* Minimum (optional sorting)\n",
    "\n",
    "## Tasks\n",
    "Robin Hood has hit the following points:"
   ]
  },
  {
   "cell_type": "code",
   "execution_count": 3,
   "metadata": {},
   "outputs": [],
   "source": [
    "points = [(4, 5), (-0, 2), (4, 7), (1, -3), (3, -2), (4, 5), (3, 2), (5, 7), (-5, 7), (2, 2), (-4, 5), (0, -2),\n",
    "          (-4, 7), (-1, 3), (-3, 2), (-4, -5), (-3, 2), (5, 7), (5, 7), (2, 2), (9, 9), (-8, -9)]\n"
   ]
  },
  {
   "cell_type": "code",
   "execution_count": 4,
   "metadata": {},
   "outputs": [
    {
     "data": {
      "text/plain": [
       "{(4, 5): 2,\n",
       " (0, 2): 1,\n",
       " (4, 7): 1,\n",
       " (1, -3): 1,\n",
       " (3, -2): 1,\n",
       " (3, 2): 1,\n",
       " (5, 7): 3,\n",
       " (-5, 7): 1,\n",
       " (2, 2): 2,\n",
       " (-4, 5): 1,\n",
       " (0, -2): 1,\n",
       " (-4, 7): 1,\n",
       " (-1, 3): 1,\n",
       " (-3, 2): 2,\n",
       " (-4, -5): 1,\n",
       " (9, 9): 1,\n",
       " (-8, -9): 1}"
      ]
     },
     "execution_count": 4,
     "metadata": {},
     "output_type": "execute_result"
    }
   ],
   "source": [
    "dict_teste = {}\n",
    "for flecha in points:\n",
    "    if flecha in dict_teste:\n",
    "        dict_teste[flecha] = dict_teste[flecha] +1\n",
    "    else:\n",
    "        dict_teste[flecha] = 1\n",
    "dict_teste"
   ]
  },
  {
   "cell_type": "code",
   "execution_count": null,
   "metadata": {},
   "outputs": [],
   "source": [
    "    "
   ]
  },
  {
   "cell_type": "markdown",
   "metadata": {},
   "source": [
    "#### 1. Robin Hood is famous for hitting an arrow with another arrow. Find the coordinates of the points where an arrow hits another arrow."
   ]
  },
  {
   "cell_type": "code",
   "execution_count": 6,
   "metadata": {
    "scrolled": true
   },
   "outputs": [
    {
     "name": "stdout",
     "output_type": "stream",
     "text": [
      "[(4, 5), (5, 7), (2, 2), (-3, 2)]\n"
     ]
    }
   ],
   "source": [
    "duplicates = []\n",
    "for i in points:\n",
    "    if points.count(i)>1:\n",
    "        if i not in duplicates:\n",
    "            duplicates.append(i)\n",
    "print(duplicates)\n",
    "    "
   ]
  },
  {
   "cell_type": "code",
   "execution_count": 7,
   "metadata": {},
   "outputs": [
    {
     "name": "stdout",
     "output_type": "stream",
     "text": [
      "(4, 5)\n",
      "-----\n",
      "(0, 2)\n",
      "-----\n",
      "(4, 7)\n",
      "-----\n",
      "(1, -3)\n",
      "-----\n",
      "(3, -2)\n",
      "-----\n",
      "(4, 5)\n",
      "-----\n",
      "(3, 2)\n",
      "-----\n",
      "(5, 7)\n",
      "-----\n",
      "(-5, 7)\n",
      "-----\n",
      "(2, 2)\n",
      "-----\n",
      "(-4, 5)\n",
      "-----\n",
      "(0, -2)\n",
      "-----\n",
      "(-4, 7)\n",
      "-----\n",
      "(-1, 3)\n",
      "-----\n",
      "(-3, 2)\n",
      "-----\n",
      "(-4, -5)\n",
      "-----\n",
      "(-3, 2)\n",
      "-----\n",
      "(5, 7)\n",
      "-----\n",
      "(5, 7)\n",
      "-----\n",
      "(2, 2)\n",
      "-----\n",
      "(9, 9)\n",
      "-----\n",
      "(-8, -9)\n",
      "-----\n"
     ]
    }
   ],
   "source": [
    "for flecha in points:\n",
    "    print(flecha)\n",
    "    print('-----')"
   ]
  },
  {
   "cell_type": "markdown",
   "metadata": {},
   "source": [
    "#### 2. Calculate how many arrows have fallen in each quadrant. \n",
    "**Note**: the arrows that fall in the axis (x=0 or y=0) don't belong to any quadrant."
   ]
  },
  {
   "cell_type": "code",
   "execution_count": 8,
   "metadata": {},
   "outputs": [
    {
     "name": "stdout",
     "output_type": "stream",
     "text": [
      "[(4, 5), (0, 2), (4, 7), (1, -3), (3, -2), (4, 5), (3, 2), (5, 7), (-5, 7), (2, 2), (-4, 5), (0, -2), (-4, 7), (-1, 3), (-3, 2), (-4, -5), (-3, 2), (5, 7), (5, 7), (2, 2), (9, 9), (-8, -9)]\n"
     ]
    }
   ],
   "source": [
    "print(points)"
   ]
  },
  {
   "cell_type": "code",
   "execution_count": 17,
   "metadata": {},
   "outputs": [
    {
     "name": "stdout",
     "output_type": "stream",
     "text": [
      "quadrante 1: 10\n",
      "quadrante 1: 6\n",
      "quadrante 1: 2\n",
      "quadrante 1: 2\n",
      "nenhum: 2\n"
     ]
    }
   ],
   "source": [
    "q1 = []\n",
    "q2 = []\n",
    "q3 = []\n",
    "q4 = []\n",
    "q0 = []\n",
    "\n",
    "for x,y in points:\n",
    "    if x > 0 and y > 0:\n",
    "        q1.append((x,y))\n",
    "    elif x < 0 and y > 0:\n",
    "        q2.append((x,y))\n",
    "    elif x < 0 and y < 0:\n",
    "        q3.append((x,y))\n",
    "    elif x > 0 and y < 0:\n",
    "        q4.append((x,y))\n",
    "    else:\n",
    "        q0.append((x,y))\n",
    "        \n",
    "print(f'quadrante 1: {len(q1)}')\n",
    "print(f'quadrante 1: {len(q2)}')\n",
    "print(f'quadrante 1: {len(q3)}')\n",
    "print(f'quadrante 1: {len(q4)}')\n",
    "print(f'nenhum: {len(q0)}')"
   ]
  },
  {
   "cell_type": "markdown",
   "metadata": {},
   "source": [
    "#### 3. Find the point closest to the center. Calculate its distance to the center. \n",
    "Take into account that there might be more than one point at the minimum distance to the center.\n",
    "\n",
    "**Hint**: Use the Euclidean distance. You can find more information about it [here](https://en.wikipedia.org/wiki/Euclidean_distance).  \n",
    "**Hint**: Defining a function that calculates the distance to the center can help."
   ]
  },
  {
   "cell_type": "code",
   "execution_count": 25,
   "metadata": {},
   "outputs": [],
   "source": [
    "def distancia_euclidiana(x,y):\n",
    "    distance = ((x**2)+(y**2))**0.5\n",
    "    return distance"
   ]
  },
  {
   "cell_type": "code",
   "execution_count": 28,
   "metadata": {},
   "outputs": [],
   "source": [
    "dict_distancia = {}\n",
    "for x,y in points:\n",
    "    dict_distancia[(x,y)] = distancia_euclidiana(x,y)"
   ]
  },
  {
   "cell_type": "code",
   "execution_count": 29,
   "metadata": {
    "scrolled": true
   },
   "outputs": [
    {
     "data": {
      "text/plain": [
       "{(4, 5): 6.4031242374328485,\n",
       " (0, 2): 2.0,\n",
       " (4, 7): 8.06225774829855,\n",
       " (1, -3): 3.1622776601683795,\n",
       " (3, -2): 3.605551275463989,\n",
       " (3, 2): 3.605551275463989,\n",
       " (5, 7): 8.602325267042627,\n",
       " (-5, 7): 8.602325267042627,\n",
       " (2, 2): 2.8284271247461903,\n",
       " (-4, 5): 6.4031242374328485,\n",
       " (0, -2): 2.0,\n",
       " (-4, 7): 8.06225774829855,\n",
       " (-1, 3): 3.1622776601683795,\n",
       " (-3, 2): 3.605551275463989,\n",
       " (-4, -5): 6.4031242374328485,\n",
       " (9, 9): 12.727922061357855,\n",
       " (-8, -9): 12.041594578792296}"
      ]
     },
     "execution_count": 29,
     "metadata": {},
     "output_type": "execute_result"
    }
   ],
   "source": [
    "dict_distancia"
   ]
  },
  {
   "cell_type": "code",
   "execution_count": null,
   "metadata": {},
   "outputs": [],
   "source": [
    "lista_distancia = ()\n",
    "for x,y in points:\n",
    "    lista_distancia.append(distancia_euclidiana(x,y))"
   ]
  },
  {
   "cell_type": "code",
   "execution_count": 30,
   "metadata": {},
   "outputs": [
    {
     "data": {
      "text/plain": [
       "2.0"
      ]
     },
     "execution_count": 30,
     "metadata": {},
     "output_type": "execute_result"
    }
   ],
   "source": [
    "# closest point to the center\n",
    "lista_distancias = []\n",
    "for x,y in points:\n",
    "    lista_distancias.append(distancia_euclidiana(x,y))\n",
    "min(lista_distancias)"
   ]
  },
  {
   "cell_type": "markdown",
   "metadata": {},
   "source": [
    "#### 4. If the archery target has a radius of 9, calculate the number of arrows that won't hit the target. \n",
    "**Hint**: Use the function created in step 3. "
   ]
  },
  {
   "cell_type": "code",
   "execution_count": 31,
   "metadata": {},
   "outputs": [
    {
     "data": {
      "text/plain": [
       "{(4, 5): 6.4031242374328485,\n",
       " (0, 2): 2.0,\n",
       " (4, 7): 8.06225774829855,\n",
       " (1, -3): 3.1622776601683795,\n",
       " (3, -2): 3.605551275463989,\n",
       " (3, 2): 3.605551275463989,\n",
       " (5, 7): 8.602325267042627,\n",
       " (-5, 7): 8.602325267042627,\n",
       " (2, 2): 2.8284271247461903,\n",
       " (-4, 5): 6.4031242374328485,\n",
       " (0, -2): 2.0,\n",
       " (-4, 7): 8.06225774829855,\n",
       " (-1, 3): 3.1622776601683795,\n",
       " (-3, 2): 3.605551275463989,\n",
       " (-4, -5): 6.4031242374328485,\n",
       " (9, 9): 12.727922061357855,\n",
       " (-8, -9): 12.041594578792296}"
      ]
     },
     "execution_count": 31,
     "metadata": {},
     "output_type": "execute_result"
    }
   ],
   "source": [
    "dict_distancia"
   ]
  },
  {
   "cell_type": "code",
   "execution_count": 34,
   "metadata": {},
   "outputs": [
    {
     "name": "stdout",
     "output_type": "stream",
     "text": [
      "[(4, 5), (0, 2), (4, 7), (1, -3), (3, -2), (3, 2), (5, 7), (-5, 7), (2, 2), (-4, 5), (0, -2), (-4, 7), (-1, 3), (-3, 2), (-4, -5), (9, 9), (-8, -9)]\n",
      "total de flechas fora do target: 17\n"
     ]
    }
   ],
   "source": [
    "list_flechas_fora = []\n",
    "for elemento in dict_distancia:\n",
    "    if dict_distancia[elemento] > 0:\n",
    "        list_flechas_fora.append(elemento)\n",
    "print(list_flechas_fora)\n",
    "print(f'total de flechas fora do target: {len(list_flechas_fora)}')"
   ]
  },
  {
   "cell_type": "code",
   "execution_count": null,
   "metadata": {},
   "outputs": [],
   "source": []
  }
 ],
 "metadata": {
  "kernelspec": {
   "display_name": "Python 3",
   "language": "python",
   "name": "python3"
  },
  "language_info": {
   "codemirror_mode": {
    "name": "ipython",
    "version": 3
   },
   "file_extension": ".py",
   "mimetype": "text/x-python",
   "name": "python",
   "nbconvert_exporter": "python",
   "pygments_lexer": "ipython3",
   "version": "3.8.5"
  }
 },
 "nbformat": 4,
 "nbformat_minor": 2
}
