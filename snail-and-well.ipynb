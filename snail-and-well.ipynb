{
 "cells": [
  {
   "cell_type": "markdown",
   "metadata": {},
   "source": [
    "<img src=\"https://bit.ly/2VnXWr2\" width=\"100\" align=\"left\">"
   ]
  },
  {
   "cell_type": "markdown",
   "metadata": {},
   "source": [
    "# The Snail and the Well\n",
    "\n",
    "A snail falls at the bottom of a 125 cm well. Each day the snail rises 30 cm. But at night, while sleeping, slides 20 cm because the walls are wet. How many days does it take for the snail to escape the well?\n",
    "\n",
    "**Hint**: The snail gets out of the well when it surpasses the 125cm of height.\n",
    "\n",
    "## Tools\n",
    "\n",
    "1. Loop: **while**\n",
    "2. Conditional statements: **if-else**\n",
    "3. Function: **print()**\n",
    "\n",
    "## Tasks\n",
    "\n",
    "#### 1. Assign the challenge data to variables with representative names: `well_height`, `daily_distance`, `nightly_distance` and `snail_position`."
   ]
  },
  {
   "cell_type": "code",
   "execution_count": null,
   "metadata": {},
   "outputs": [],
   "source": [
    "well_height = 125\n",
    "daily_distance = 30\n",
    "nightly_distance = -20\n",
    "snail_position = 0"
   ]
  },
  {
   "cell_type": "markdown",
   "metadata": {},
   "source": [
    "#### 2. Create a variable `days` to keep count of the days that pass until the snail escapes the well. "
   ]
  },
  {
   "cell_type": "code",
   "execution_count": null,
   "metadata": {},
   "outputs": [],
   "source": [
    "days = 0"
   ]
  },
  {
   "cell_type": "markdown",
   "metadata": {},
   "source": [
    "#### 3. Find the solution to the challenge using the variables defined above. "
   ]
  },
  {
   "cell_type": "code",
   "execution_count": 3,
   "metadata": {},
   "outputs": [
    {
     "name": "stdout",
     "output_type": "stream",
     "text": [
      "Day 1\n",
      "Day 2\n",
      "Day 3\n",
      "Day 4\n",
      "Day 5\n",
      "Day 6\n",
      "Day 7\n",
      "Day 8\n",
      "Day 9\n",
      "Day 10\n",
      "Day 11\n",
      "Day 12\n",
      "Last day! Snail arrived!\n"
     ]
    }
   ],
   "source": [
    "well_height = 125\n",
    "daily_distance = 30\n",
    "nightly_distance = -20\n",
    "snail_position = 0\n",
    "days = 0\n",
    "while snail_position < well_height:\n",
    "    snail_position = snail_position + daily_distance + nightly_distance\n",
    "    if snail_position < well_height:\n",
    "        days = days + 1\n",
    "        print(f\"Day {days}\")\n",
    "    else:\n",
    "        print(\"Last day! Snail arrived!\")\n"
   ]
  },
  {
   "cell_type": "markdown",
   "metadata": {},
   "source": [
    "#### 4. Print the solution."
   ]
  },
  {
   "cell_type": "code",
   "execution_count": null,
   "metadata": {},
   "outputs": [],
   "source": [
    "Day  1\n",
    "Day  2\n",
    "Day  3\n",
    "Day  4\n",
    "Day  5\n",
    "Day  6\n",
    "Day  7\n",
    "Day  8\n",
    "Day  9\n",
    "Day  10\n",
    "Day  11\n",
    "Day  12\n",
    "Last day! Snail arrived!"
   ]
  },
  {
   "cell_type": "markdown",
   "metadata": {},
   "source": [
    "## Bonus\n",
    "The distance traveled by the snail each day is now defined by a list.\n",
    "```\n",
    "advance_cm = [30, 21, 33, 77, 44, 45, 23, 45, 12, 34, 55]\n",
    "```\n",
    "On the first day, the snail rises 30cm but during the night it slides 20cm. On the second day, the snail rises 21cm but during the night it slides 20cm, and so on. \n",
    "\n",
    "#### 1. How many days does it take for the snail to escape the well?\n",
    "Follow the same guidelines as in the previous challenge.\n",
    "\n",
    "**Hint**: Remember that the snail gets out of the well when it surpasses the 125cm of height."
   ]
  },
  {
   "cell_type": "code",
   "execution_count": 9,
   "metadata": {},
   "outputs": [
    {
     "name": "stdout",
     "output_type": "stream",
     "text": [
      "Day 1\n",
      "Day 2\n",
      "Day 3\n",
      "Day 4\n",
      "Day 5\n",
      "Last day! Snail arrived!\n"
     ]
    }
   ],
   "source": [
    "advance_cm = [30, 21, 33, 77, 44, 45, 23, 45, 12, 34, 55]\n",
    "well_height = 125\n",
    "nightly_distance = -20\n",
    "snail_position = 0\n",
    "days = 0\n",
    "while snail_position < well_height:\n",
    "    for i in advance_cm:\n",
    "        snail_position = snail_position + nightly_distance + i\n",
    "        if snail_position < well_height:\n",
    "            days = days + 1\n",
    "            print(f\"Day {days}\")\n",
    "        else:\n",
    "            print(\"Last day! Snail arrived!\")\n",
    "            break\n"
   ]
  },
  {
   "cell_type": "markdown",
   "metadata": {},
   "source": [
    "#### 2. What is its maximum displacement in one day? And its minimum? Calculate the displacement using only the travel distance of the days used to get out of the well. \n",
    "**Hint**: Remember that displacement means the total distance risen taking into account that the snail slides at night.  "
   ]
  },
  {
   "cell_type": "code",
   "execution_count": null,
   "metadata": {},
   "outputs": [],
   "source": [
    "advance_cm = [30, 21, 33, 77, 44, 45, 23, 45, 12, 34, 55]\n",
    "print (max(int(number) for number in advance_cm))\n",
    "77"
   ]
  },
  {
   "cell_type": "markdown",
   "metadata": {},
   "source": [
    "#### 3. What is its average progress? Take into account the snail slides at night."
   ]
  },
  {
   "cell_type": "code",
   "execution_count": 1,
   "metadata": {},
   "outputs": [
    {
     "name": "stdout",
     "output_type": "stream",
     "text": [
      "[10]\n",
      "[10, 11]\n",
      "[10, 11, 24]\n",
      "[10, 11, 24, 81]\n",
      "[10, 11, 24, 81, 105]\n",
      "[10, 11, 24, 81, 105, 130]\n",
      "[10, 11, 24, 81, 105, 130, 133]\n",
      "[10, 11, 24, 81, 105, 130, 133, 158]\n",
      "[10, 11, 24, 81, 105, 130, 133, 158, 150]\n",
      "[10, 11, 24, 81, 105, 130, 133, 158, 150, 164]\n",
      "[10, 11, 24, 81, 105, 130, 133, 158, 150, 164, 199]\n",
      "10\n",
      "11\n",
      "24\n",
      "81\n",
      "105\n",
      "Snail arrived!\n",
      "125\n",
      "Snail arrived!\n",
      "125\n",
      "Snail arrived!\n",
      "125\n",
      "Snail arrived!\n",
      "125\n",
      "Snail arrived!\n",
      "125\n",
      "Snail arrived!\n",
      "125\n",
      "[10]\n",
      "[10, 1]\n",
      "[10, 1, 13]\n",
      "[10, 1, 13, 57]\n",
      "[10, 1, 13, 57, 24]\n",
      "[10, 1, 13, 57, 24, 25]\n",
      "[10, 1, 13, 57, 24, 25, 3]\n",
      "[10, 1, 13, 57, 24, 25, 3, 25]\n",
      "[10, 1, 13, 57, 24, 25, 3, 25, -8]\n",
      "[10, 1, 13, 57, 24, 25, 3, 25, -8, 14]\n",
      "[10, 1, 13, 57, 24, 25, 3, 25, -8, 14, 35]\n",
      "125\n",
      "20.833333333333332\n"
     ]
    }
   ],
   "source": [
    "advance_cm = [30, 21, 33, 77, 44, 45, 23, 45, 12, 34, 55]\n",
    "nightly_distance = -20\n",
    "snail_position = 0\n",
    "well_height = 125\n",
    "snail_position_list = []\n",
    "progress_list = []\n",
    "for advance in advance_cm:\n",
    "    snail_position = snail_position + advance + nightly_distance\n",
    "    snail_position_list.append(snail_position)\n",
    "    print(snail_position_list)\n",
    "for snail_position in snail_position_list:\n",
    "    if snail_position <= well_height:\n",
    "        print(snail_position)\n",
    "    elif snail_position > well_height:\n",
    "        snail_position = well_height\n",
    "        print(\"Snail arrived!\")\n",
    "        print(snail_position)\n",
    "#progress\n",
    "for advance in advance_cm:\n",
    "    progress = advance + nightly_distance\n",
    "    progress_list.append(progress)\n",
    "    print(progress_list)\n",
    "#real progress\n",
    "real_progress_list = [10, 1, 13, 57, 24, 20]\n",
    "progress_sum = sum(real_progress_list)\n",
    "print(progress_sum)\n",
    "#average progress\n",
    "average_progress = progress_sum/6\n",
    "print(average_progress)"
   ]
  },
  {
   "cell_type": "markdown",
   "metadata": {},
   "source": [
    "#### 4. What is the standard deviation of its displacement? Take into account the snail slides at night."
   ]
  },
  {
   "cell_type": "code",
   "execution_count": null,
   "metadata": {},
   "outputs": [],
   "source": []
  }
 ],
 "metadata": {
  "kernelspec": {
   "display_name": "Python 3",
   "language": "python",
   "name": "python3"
  },
  "language_info": {
   "codemirror_mode": {
    "name": "ipython",
    "version": 3
   },
   "file_extension": ".py",
   "mimetype": "text/x-python",
   "name": "python",
   "nbconvert_exporter": "python",
   "pygments_lexer": "ipython3",
   "version": "3.8.5"
  }
 },
 "nbformat": 4,
 "nbformat_minor": 2
}
