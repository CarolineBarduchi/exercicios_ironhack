{
 "cells": [
  {
   "cell_type": "markdown",
   "metadata": {},
   "source": [
    "<img src=\"https://bit.ly/2VnXWr2\" width=\"100\" align=\"left\">"
   ]
  },
  {
   "cell_type": "markdown",
   "metadata": {},
   "source": [
    "# Bus\n",
    "\n",
    "This bus has a passenger entry and exit control system to monitor the number of occupants it carries and thus detect when there are too many.\n",
    "\n",
    "At each stop, the entry and exit of passengers is represented by a tuple consisting of two integer numbers.\n",
    "```\n",
    "bus_stop = (in, out)\n",
    "```\n",
    "The succession of stops is represented by a list of these tuples.\n",
    "```\n",
    "stops = [(in1, out1), (in2, out2), (in3, out3), (in4, out4)]\n",
    "```\n",
    "\n",
    "## Tools\n",
    "You don't necessarily need to use all the tools. Maybe you opt to use some of them or completely different ones, they are given to help you shape the exercise. Programming exercises can be solved in many different ways.\n",
    "* Data structures: **lists, tuples**\n",
    "* Loop: **while/for loops**\n",
    "* Functions: **min, max, len**\n",
    "\n",
    "## Tasks"
   ]
  },
  {
   "cell_type": "code",
   "execution_count": null,
   "metadata": {},
   "outputs": [],
   "source": [
    "# Variables\n",
    "stops = [(10, 0), (4, 1), (3, 5), (3, 4), (5, 1), (1, 5), (5, 8), (4, 6), (2, 3)]"
   ]
  },
  {
   "cell_type": "markdown",
   "metadata": {},
   "source": [
    "#### 1. Calculate the number of stops."
   ]
  },
  {
   "cell_type": "code",
   "execution_count": 1,
   "metadata": {},
   "outputs": [
    {
     "name": "stdout",
     "output_type": "stream",
     "text": [
      "9\n"
     ]
    }
   ],
   "source": [
    "# Variables\n",
    "stops = [(10, 0), (4, 1), (3, 5), (3, 4), (5, 1), (1, 5), (5, 8), (4, 6), (2, 3)]\n",
    "number_stops = len(stops)\n",
    "print(number_stops)"
   ]
  },
  {
   "cell_type": "markdown",
   "metadata": {},
   "source": [
    "#### 2. Assign to a variable a list whose elements are the number of passengers at each stop (in-out).\n",
    "Each item depends on the previous item in the list + in - out."
   ]
  },
  {
   "cell_type": "code",
   "execution_count": 2,
   "metadata": {},
   "outputs": [
    {
     "name": "stdout",
     "output_type": "stream",
     "text": [
      "9\n",
      "[10]\n",
      "[10, 13]\n",
      "[10, 13, 11]\n",
      "[10, 13, 11, 10]\n",
      "[10, 13, 11, 10, 14]\n",
      "[10, 13, 11, 10, 14, 10]\n",
      "[10, 13, 11, 10, 14, 10, 7]\n",
      "[10, 13, 11, 10, 14, 10, 7, 5]\n",
      "[10, 13, 11, 10, 14, 10, 7, 5, 4]\n"
     ]
    }
   ],
   "source": [
    "# Variables\n",
    "stops = [(10, 0), (4, 1), (3, 5), (3, 4), (5, 1), (1, 5), (5, 8), (4, 6), (2, 3)]\n",
    "number_stops = len(stops)\n",
    "print(number_stops)\n",
    "# Current number of passengers at each stop\n",
    "flow_of_pass = [10, 3, -2, -1, 4, -4, -3, -2, -1]\n",
    "current_number = 0\n",
    "current_list = []\n",
    "for flow in flow_of_pass:\n",
    "    current_number = current_number + flow\n",
    "    current_list.append(current_number)\n",
    "    print(current_list)"
   ]
  },
  {
   "cell_type": "markdown",
   "metadata": {},
   "source": [
    "#### 3. Find the maximum occupation of the bus."
   ]
  },
  {
   "cell_type": "code",
   "execution_count": 3,
   "metadata": {},
   "outputs": [
    {
     "name": "stdout",
     "output_type": "stream",
     "text": [
      "14\n"
     ]
    }
   ],
   "source": [
    "# Maximum occupation of the bus\n",
    "max_occupation = max(current_list)\n",
    "print(max_occupation)"
   ]
  },
  {
   "cell_type": "markdown",
   "metadata": {},
   "source": [
    "#### 4. Calculate the average occupation. And the standard deviation."
   ]
  },
  {
   "cell_type": "code",
   "execution_count": 4,
   "metadata": {},
   "outputs": [
    {
     "name": "stdout",
     "output_type": "stream",
     "text": [
      "9.333333333333334\n",
      "[0.44444444444444364]\n",
      "0.44444444444444364\n",
      "0.04938271604938263\n",
      "0.22222222222222202\n",
      "[0.44444444444444364, 13.44444444444444]\n",
      "13.888888888888882\n",
      "1.5432098765432092\n",
      "1.242259987499883\n",
      "[0.44444444444444364, 13.44444444444444, 2.777777777777776]\n",
      "16.666666666666657\n",
      "1.8518518518518507\n",
      "1.360827634879543\n",
      "[0.44444444444444364, 13.44444444444444, 2.777777777777776, 0.44444444444444364]\n",
      "17.1111111111111\n",
      "1.9012345679012332\n",
      "1.378852627332317\n",
      "[0.44444444444444364, 13.44444444444444, 2.777777777777776, 0.44444444444444364, 21.77777777777777]\n",
      "38.88888888888887\n",
      "4.3209876543209855\n",
      "2.0786985482077447\n",
      "[0.44444444444444364, 13.44444444444444, 2.777777777777776, 0.44444444444444364, 21.77777777777777, 0.44444444444444364]\n",
      "39.333333333333314\n",
      "4.3703703703703685\n",
      "2.0905430802474196\n",
      "[0.44444444444444364, 13.44444444444444, 2.777777777777776, 0.44444444444444364, 21.77777777777777, 0.44444444444444364, 5.444444444444447]\n",
      "44.777777777777764\n",
      "4.975308641975307\n",
      "2.230539988876081\n",
      "[0.44444444444444364, 13.44444444444444, 2.777777777777776, 0.44444444444444364, 21.77777777777777, 0.44444444444444364, 5.444444444444447, 18.777777777777782]\n",
      "63.55555555555554\n",
      "7.061728395061727\n",
      "2.6573912762447547\n",
      "[0.44444444444444364, 13.44444444444444, 2.777777777777776, 0.44444444444444364, 21.77777777777777, 0.44444444444444364, 5.444444444444447, 18.777777777777782, 28.44444444444445]\n",
      "92.0\n",
      "10.222222222222221\n",
      "3.197221015541813\n"
     ]
    }
   ],
   "source": [
    "# Average occupation\n",
    "average_occupation = sum(current_list)/len(current_list)\n",
    "print(average_occupation)\n",
    "# Standard deviation\n",
    "standard_deviation2 = 0\n",
    "standard_deviation2_list = []\n",
    "for current_number in current_list:\n",
    "    standard_deviation2 = (current_number - average_occupation)**2\n",
    "    standard_deviation2_list.append(standard_deviation2)\n",
    "    print(standard_deviation2_list)\n",
    "    # sum of the list\n",
    "    sum_std2 = sum(standard_deviation2_list)\n",
    "    print(sum_std2)\n",
    "    # sum of the list / N\n",
    "    std2 = sum_std2/len(current_list)\n",
    "    print(std2)\n",
    "    # standard deviation\n",
    "    std = (std2)**(1/2)\n",
    "    print(std)"
   ]
  },
  {
   "cell_type": "code",
   "execution_count": null,
   "metadata": {},
   "outputs": [],
   "source": []
  }
 ],
 "metadata": {
  "kernelspec": {
   "display_name": "Python 3",
   "language": "python",
   "name": "python3"
  },
  "language_info": {
   "codemirror_mode": {
    "name": "ipython",
    "version": 3
   },
   "file_extension": ".py",
   "mimetype": "text/x-python",
   "name": "python",
   "nbconvert_exporter": "python",
   "pygments_lexer": "ipython3",
   "version": "3.8.5"
  }
 },
 "nbformat": 4,
 "nbformat_minor": 2
}
